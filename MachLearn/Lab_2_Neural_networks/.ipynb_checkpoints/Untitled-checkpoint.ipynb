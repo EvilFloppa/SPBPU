{
 "cells": [
  {
   "cell_type": "code",
   "execution_count": 6,
   "metadata": {},
   "outputs": [
    {
     "name": "stdout",
     "output_type": "stream",
     "text": [
      "Epoch 1/5\n",
      "100/100 [==============================] - 0s 4ms/step - loss: 0.2221 - accuracy: 0.5000\n",
      "Epoch 2/5\n",
      "100/100 [==============================] - 0s 3ms/step - loss: 0.0749 - accuracy: 0.5000\n",
      "Epoch 3/5\n",
      "100/100 [==============================] - 0s 3ms/step - loss: -0.0570 - accuracy: 0.4700\n",
      "Epoch 4/5\n",
      "100/100 [==============================] - 0s 3ms/step - loss: -0.1784 - accuracy: 0.4400\n",
      "Epoch 5/5\n",
      "100/100 [==============================] - 0s 3ms/step - loss: -0.2931 - accuracy: 0.4000\n",
      "100/100 [==============================] - 0s 373us/step\n",
      "\n",
      "accuracy: 40.00%\n"
     ]
    }
   ],
   "source": [
    "import pandas as pd\n",
    "from keras.models import Sequential\n",
    "from keras.layers import Dense\n",
    "\n",
    "class Task1():\n",
    "    def neural_network(self, X, y):\n",
    "        model = Sequential()\n",
    "\n",
    "        model.add(Dense(1, input_dim=2, activation='softplus'))\n",
    "        model.compile(loss='binary_crossentropy', optimizer='adadelta', metrics=['accuracy'])\n",
    "        model.fit(X, y, epochs=1, batch_size=1)\n",
    "\n",
    "        scores = model.evaluate(X, y)\n",
    "        print(\"\\n%s: %.2f%%\" % (model.metrics_names[1], scores[1]*100))\n",
    "\n",
    "    def nn_0(self):\n",
    "        data = pd.read_csv('nn_0.csv')\n",
    "\n",
    "        X = data.iloc[:, :2].values\n",
    "        y = data.iloc[:, 2].values\n",
    "\n",
    "        self.neural_network(X, y)\n",
    "\n",
    "    def nn_1(self):\n",
    "        data = pd.read_csv('nn_1.csv')\n",
    "\n",
    "        X = data.iloc[:, :2].values\n",
    "        y = data.iloc[:, 2].values\n",
    "\n",
    "        self.neural_network(X, y)\n",
    "\n",
    "task1 = Task1()\n",
    "task1.nn_0()\n",
    "##task1.nn_1()"
   ]
  },
  {
   "cell_type": "code",
   "execution_count": null,
   "metadata": {},
   "outputs": [],
   "source": []
  },
  {
   "cell_type": "code",
   "execution_count": null,
   "metadata": {},
   "outputs": [],
   "source": []
  }
 ],
 "metadata": {
  "kernelspec": {
   "display_name": "Python 3",
   "language": "python",
   "name": "python3"
  },
  "language_info": {
   "codemirror_mode": {
    "name": "ipython",
    "version": 3
   },
   "file_extension": ".py",
   "mimetype": "text/x-python",
   "name": "python",
   "nbconvert_exporter": "python",
   "pygments_lexer": "ipython3",
   "version": "3.6.9"
  }
 },
 "nbformat": 4,
 "nbformat_minor": 2
}
