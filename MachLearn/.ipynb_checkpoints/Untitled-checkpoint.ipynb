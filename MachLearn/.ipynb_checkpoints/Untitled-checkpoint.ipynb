{
 "cells": [
  {
   "cell_type": "code",
   "execution_count": 1,
   "metadata": {},
   "outputs": [],
   "source": [
    "# общие импорты\n",
    "import pandas as pd\n",
    "import numpy as np"
   ]
  },
  {
   "cell_type": "code",
   "execution_count": null,
   "metadata": {},
   "outputs": [],
   "source": [
    "# Задание 1"
   ]
  },
  {
   "cell_type": "code",
   "execution_count": 44,
   "metadata": {},
   "outputs": [
    {
     "data": {
      "text/plain": [
       "x11    3\n",
       "x12    3\n",
       "x13    3\n",
       "x21    3\n",
       "x22    3\n",
       "x23    3\n",
       "x31    3\n",
       "x32    3\n",
       "x33    3\n",
       "res    2\n",
       "dtype: int64"
      ]
     },
     "execution_count": 44,
     "metadata": {},
     "output_type": "execute_result"
    }
   ],
   "source": [
    "# крестики-нолики наивным байесовским классификатором\n",
    "\n",
    "# размер тестовой выборки для каждого класса\n",
    "test_size = 20\n",
    "\n",
    "# доля используемой тренировочной выборки [0.0; 1.0]\n",
    "used_sample = 1.\n",
    "\n",
    "data = pd.read_csv('lab1_data/tic_tac_toe.txt', sep=',', header=None)\n",
    "data.columns = ['x11', 'x12', 'x13', 'x21', 'x22', 'x23', 'x31', 'x32', 'x33', 'res']\n",
    "\n",
    "train_data = data[data['res'] == 'positive'][20:].sample(frac=used_sample)\n",
    "train_data = train_data.append(data[data['res'] == 'negative'][20:].sample(frac=used_sample))\n",
    "\n",
    "test_data = data[data['res'] == 'positive'][0:20]\n",
    "test_data = test_data.append(data[data['res'] == 'negative'][0:20])\n",
    "\n",
    "\n",
    "train_data.groupby('x11').count() \n",
    "\n",
    "    \n",
    "\n",
    "        \n"
   ]
  },
  {
   "cell_type": "code",
   "execution_count": null,
   "metadata": {},
   "outputs": [],
   "source": []
  }
 ],
 "metadata": {
  "kernelspec": {
   "display_name": "Python 3",
   "language": "python",
   "name": "python3"
  },
  "language_info": {
   "codemirror_mode": {
    "name": "ipython",
    "version": 3
   },
   "file_extension": ".py",
   "mimetype": "text/x-python",
   "name": "python",
   "nbconvert_exporter": "python",
   "pygments_lexer": "ipython3",
   "version": "3.6.9"
  }
 },
 "nbformat": 4,
 "nbformat_minor": 2
}
